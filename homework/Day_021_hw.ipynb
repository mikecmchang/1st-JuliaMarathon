{
 "cells": [
  {
   "cell_type": "markdown",
   "metadata": {},
   "source": [
    "# Julia 基礎圖表繪製：Gadfly 一維資料圖表\n",
    "\n",
    "## 作業 021"
   ]
  },
  {
   "cell_type": "markdown",
   "metadata": {},
   "source": [
    "1. 比較看看盒狀圖與 violin plot 在同樣的資料上分別展現資料的什麼特性。"
   ]
  },
  {
   "cell_type": "markdown",
   "metadata": {},
   "source": [
    "2. 同樣的資料可以以條狀圖或是線圖繪製，思考兩者在表現資料上的特點。"
   ]
  },
  {
   "cell_type": "markdown",
   "metadata": {},
   "source": [
    "### 答案\n",
    "1. 盒鬚圖（box plot）和小提琴圖（violin plot）皆可看到資料的分布情形。盒鬚圖呈現資料的四分位數、中位數和最大最小值等統計值之分布；而小提琴圖則強調資料的分布和密度。\n",
    "\n",
    "2. 條狀圖（bar chart）主要呈現數量大小的變化，較多用於非連續變項的資料呈現；線圖（line chart）則強調資料的變化趨勢，通常用於呈現連續變項的資料型態。"
   ]
  }
 ],
 "metadata": {
  "kernelspec": {
   "display_name": "Julia 1.3.1",
   "language": "julia",
   "name": "julia-1.3"
  },
  "language_info": {
   "file_extension": ".jl",
   "mimetype": "application/julia",
   "name": "julia",
   "version": "1.4.0"
  }
 },
 "nbformat": 4,
 "nbformat_minor": 4
}