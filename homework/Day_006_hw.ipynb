{
 "cells": [
  {
   "cell_type": "markdown",
   "metadata": {
    "colab_type": "text",
    "id": "xGRRA-qCa1ug"
   },
   "source": [
    "# Julia 函式 (Functions)\n",
    "\n",
    "## 作業 006：身高體重指數 (Body Mass Index; BMI) 計算機\n",
    "\n",
    "身高體重指數 (Body Mass Index; BMI) 是我們常用來衡量健康的指標之一，例如肥胖是否為某一種疾病的致病原因。請用 Julia 函式撰寫 BMI 計算公式，並呼叫函式計算 BMI 值。\n",
    "\n",
    "BMI 計算公式：\n",
    "$$BMI=\\frac{體重}{身高^2}$$\n",
    "其中體重的單位為公斤，身高的單位為公尺。"
   ]
  },
  {
   "cell_type": "code",
   "execution_count": null,
   "metadata": {
    "colab": {},
    "colab_type": "code",
    "id": "0ENgBuhna1uj"
   },
   "outputs": [],
   "source": [
    "# 定義函式，並在函式中計算 BMI\n"
   ]
  },
  {
   "cell_type": "code",
   "execution_count": null,
   "metadata": {
    "colab": {},
    "colab_type": "code",
    "id": "HjjZi9l8a1up"
   },
   "outputs": [],
   "source": [
    "# 呼叫上面定義的函式，得到計算出來的 BMI\n"
   ]
  },
  {
   "cell_type": "code",
   "execution_count": null,
   "metadata": {
    "colab": {},
    "colab_type": "code",
    "id": "I1Ap6yqNa1uw"
   },
   "outputs": [],
   "source": [
    "# 可再次呼叫上面定義的函式，計算其他人的 BMI\n"
   ]
  },
  {
   "cell_type": "markdown",
   "metadata": {},
   "source": [
    "### 答案"
   ]
  },
  {
   "cell_type": "code",
   "execution_count": 2,
   "metadata": {},
   "outputs": [
    {
     "name": "stdout",
     "output_type": "stream",
     "text": [
      "1ˢᵗ BMI: 21.6\n",
      "2ⁿᵈ BMI: 20.76\n"
     ]
    }
   ],
   "source": [
    "## function for calculating BMI\n",
    "function bmi(height::Number, weight::Number)\n",
    "    if height > 10\n",
    "        height /= 100\n",
    "    end\n",
    "    if weight > 1000\n",
    "        weight /= 1000\n",
    "    end\n",
    "    bmi =  weight / (height^2)\n",
    "    bmi = round(bmi, digits = 2)\n",
    "    return bmi\n",
    "end\n",
    "\n",
    "## Calculate BMI of sample 1 with height in cm and weight in kg\n",
    "println(\"1ˢᵗ BMI: \", bmi(180, 70))\n",
    "\n",
    "## Calculate BMI of sample 2 with height in m and weight in g\n",
    "println(\"2ⁿᵈ BMI: \", bmi(1.7, 60000))\n"
   ]
  }
 ],
 "metadata": {
  "colab": {
   "name": "julia_006_hw.ipynb",
   "provenance": []
  },
  "kernelspec": {
   "display_name": "Julia 1.3.0",
   "language": "julia",
   "name": "julia-1.3"
  },
  "language_info": {
   "file_extension": ".jl",
   "mimetype": "application/julia",
   "name": "julia",
   "version": "1.3.0"
  }
 },
 "nbformat": 4,
 "nbformat_minor": 4
}
